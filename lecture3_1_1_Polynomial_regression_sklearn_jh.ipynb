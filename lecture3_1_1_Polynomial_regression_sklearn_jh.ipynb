{
 "cells": [
  {
   "cell_type": "markdown",
   "id": "democratic-geography",
   "metadata": {},
   "source": [
    "# Polynomial Linear Regression"
   ]
  },
  {
   "cell_type": "markdown",
   "id": "current-retreat",
   "metadata": {},
   "source": [
    "Polynomial regression is a form of regression analysis in which the relationship between the independent variable x and the dependent variable y is modelled as an nth degree polynomial in x.\n",
    "\n",
    "In general, we can model the expected value of y as an nth degree polynomial, yielding the general polynomial regression model\n",
    "\n",
    "$$\n",
    "{\\displaystyle y=\\beta _{0}+\\beta _{1}x+\\beta _{2}x^{2}+\\beta _{3}x^{3}+\\cdots +\\beta _{n}x^{n}+\\varepsilon .\\,}\n",
    "$$\n",
    "\n",
    "https://en.wikipedia.org/wiki/Polynomial_regression"
   ]
  },
  {
   "cell_type": "code",
   "execution_count": 3,
   "id": "annoying-mouth",
   "metadata": {},
   "outputs": [],
   "source": [
    "import numpy as np\n",
    "import matplotlib.pyplot as plt\n",
    "import pandas as pd\n",
    "import seaborn as sns"
   ]
  },
  {
   "cell_type": "markdown",
   "id": "boxed-bridal",
   "metadata": {},
   "source": [
    "## Example\n",
    "Salary vs. YearsExperienced"
   ]
  },
  {
   "cell_type": "markdown",
   "id": "casual-optimization",
   "metadata": {},
   "source": [
    "### Step1: Load Dataset"
   ]
  },
  {
   "cell_type": "code",
   "execution_count": 4,
   "id": "vietnamese-hughes",
   "metadata": {},
   "outputs": [
    {
     "data": {
      "text/plain": [
       "(2000, 2)"
      ]
     },
     "execution_count": 4,
     "metadata": {},
     "output_type": "execute_result"
    }
   ],
   "source": [
    "# 'Employee_Salary.csv' 파일 읽기 pd.read_csv()\n",
    "# df shape 확인\n",
    "\n",
    "df = pd.read_csv('Employee_Salary.csv')\n",
    "\n",
    "df.shape"
   ]
  },
  {
   "cell_type": "code",
   "execution_count": 5,
   "id": "taken-couple",
   "metadata": {},
   "outputs": [
    {
     "data": {
      "text/html": [
       "<div>\n",
       "<style scoped>\n",
       "    .dataframe tbody tr th:only-of-type {\n",
       "        vertical-align: middle;\n",
       "    }\n",
       "\n",
       "    .dataframe tbody tr th {\n",
       "        vertical-align: top;\n",
       "    }\n",
       "\n",
       "    .dataframe thead th {\n",
       "        text-align: right;\n",
       "    }\n",
       "</style>\n",
       "<table border=\"1\" class=\"dataframe\">\n",
       "  <thead>\n",
       "    <tr style=\"text-align: right;\">\n",
       "      <th></th>\n",
       "      <th>Years of Experience</th>\n",
       "      <th>Salary</th>\n",
       "    </tr>\n",
       "  </thead>\n",
       "  <tbody>\n",
       "    <tr>\n",
       "      <th>1995</th>\n",
       "      <td>19.178575</td>\n",
       "      <td>421534.6910</td>\n",
       "    </tr>\n",
       "    <tr>\n",
       "      <th>1996</th>\n",
       "      <td>19.254499</td>\n",
       "      <td>430478.0265</td>\n",
       "    </tr>\n",
       "    <tr>\n",
       "      <th>1997</th>\n",
       "      <td>19.353369</td>\n",
       "      <td>438090.8454</td>\n",
       "    </tr>\n",
       "    <tr>\n",
       "      <th>1998</th>\n",
       "      <td>19.842520</td>\n",
       "      <td>482242.1608</td>\n",
       "    </tr>\n",
       "    <tr>\n",
       "      <th>1999</th>\n",
       "      <td>20.000000</td>\n",
       "      <td>500000.0000</td>\n",
       "    </tr>\n",
       "  </tbody>\n",
       "</table>\n",
       "</div>"
      ],
      "text/plain": [
       "      Years of Experience       Salary\n",
       "1995            19.178575  421534.6910\n",
       "1996            19.254499  430478.0265\n",
       "1997            19.353369  438090.8454\n",
       "1998            19.842520  482242.1608\n",
       "1999            20.000000  500000.0000"
      ]
     },
     "execution_count": 5,
     "metadata": {},
     "output_type": "execute_result"
    }
   ],
   "source": [
    "# df tail 행 보기\n",
    "\n",
    "df.tail()"
   ]
  },
  {
   "cell_type": "code",
   "execution_count": 6,
   "id": "elementary-gibraltar",
   "metadata": {},
   "outputs": [
    {
     "data": {
      "text/html": [
       "<div>\n",
       "<style scoped>\n",
       "    .dataframe tbody tr th:only-of-type {\n",
       "        vertical-align: middle;\n",
       "    }\n",
       "\n",
       "    .dataframe tbody tr th {\n",
       "        vertical-align: top;\n",
       "    }\n",
       "\n",
       "    .dataframe thead th {\n",
       "        text-align: right;\n",
       "    }\n",
       "</style>\n",
       "<table border=\"1\" class=\"dataframe\">\n",
       "  <thead>\n",
       "    <tr style=\"text-align: right;\">\n",
       "      <th></th>\n",
       "      <th>Years of Experience</th>\n",
       "      <th>Salary</th>\n",
       "    </tr>\n",
       "  </thead>\n",
       "  <tbody>\n",
       "    <tr>\n",
       "      <th>count</th>\n",
       "      <td>2000.000000</td>\n",
       "      <td>2000.000000</td>\n",
       "    </tr>\n",
       "    <tr>\n",
       "      <th>mean</th>\n",
       "      <td>10.739095</td>\n",
       "      <td>111942.422469</td>\n",
       "    </tr>\n",
       "    <tr>\n",
       "      <th>std</th>\n",
       "      <td>2.989853</td>\n",
       "      <td>45055.817085</td>\n",
       "    </tr>\n",
       "    <tr>\n",
       "      <th>min</th>\n",
       "      <td>1.000000</td>\n",
       "      <td>40000.000000</td>\n",
       "    </tr>\n",
       "    <tr>\n",
       "      <th>25%</th>\n",
       "      <td>8.812255</td>\n",
       "      <td>87938.130895</td>\n",
       "    </tr>\n",
       "    <tr>\n",
       "      <th>50%</th>\n",
       "      <td>10.738822</td>\n",
       "      <td>93376.356875</td>\n",
       "    </tr>\n",
       "    <tr>\n",
       "      <th>75%</th>\n",
       "      <td>12.785483</td>\n",
       "      <td>116978.641550</td>\n",
       "    </tr>\n",
       "    <tr>\n",
       "      <th>max</th>\n",
       "      <td>20.000000</td>\n",
       "      <td>500000.000000</td>\n",
       "    </tr>\n",
       "  </tbody>\n",
       "</table>\n",
       "</div>"
      ],
      "text/plain": [
       "       Years of Experience         Salary\n",
       "count          2000.000000    2000.000000\n",
       "mean             10.739095  111942.422469\n",
       "std               2.989853   45055.817085\n",
       "min               1.000000   40000.000000\n",
       "25%               8.812255   87938.130895\n",
       "50%              10.738822   93376.356875\n",
       "75%              12.785483  116978.641550\n",
       "max              20.000000  500000.000000"
      ]
     },
     "execution_count": 6,
     "metadata": {},
     "output_type": "execute_result"
    }
   ],
   "source": [
    "# df descriptive statistics\n",
    "\n",
    "df.describe()"
   ]
  },
  {
   "cell_type": "markdown",
   "id": "progressive-ending",
   "metadata": {},
   "source": [
    "### Step2: Visualize Dataset"
   ]
  },
  {
   "cell_type": "code",
   "execution_count": 7,
   "id": "trying-discount",
   "metadata": {},
   "outputs": [
    {
     "data": {
      "text/plain": [
       "<seaborn.axisgrid.JointGrid at 0x1c051e0d610>"
      ]
     },
     "execution_count": 7,
     "metadata": {},
     "output_type": "execute_result"
    },
    {
     "data": {
      "image/png": "[encoded data removed]",
      "text/plain": [
       "<Figure size 432x432 with 3 Axes>"
      ]
     },
     "metadata": {
      "needs_background": "light"
     },
     "output_type": "display_data"
    }
   ],
   "source": [
    "# sns.jointplot 활용한 시각화. x='Years of Experience\t', y='Salary'\n",
    "\n",
    "sns.jointplot(data = df, x='Years of Experience', y='Salary')"
   ]
  },
  {
   "cell_type": "code",
   "execution_count": 8,
   "id": "indie-plain",
   "metadata": {},
   "outputs": [
    {
     "data": {
      "text/plain": [
       "<seaborn.axisgrid.PairGrid at 0x1c056f037f0>"
      ]
     },
     "execution_count": 8,
     "metadata": {},
     "output_type": "execute_result"
    },
    {
     "data": {
      "image/png": "[encoded data removed]",
      "text/plain": [
       "<Figure size 360x360 with 6 Axes>"
      ]
     },
     "metadata": {
      "needs_background": "light"
     },
     "output_type": "display_data"
    }
   ],
   "source": [
    "sns.pairplot(df)"
   ]
  },
  {
   "cell_type": "markdown",
   "id": "tired-airline",
   "metadata": {},
   "source": [
    "### Step3: Define Train set and Test Set"
   ]
  },
  {
   "cell_type": "code",
   "execution_count": 9,
   "id": "dental-velvet",
   "metadata": {},
   "outputs": [],
   "source": [
    "# X에 -1번째 column까지 할당\n",
    "# y에 -1번째 column을 할당\n",
    "\n",
    "X = df.iloc[:,:-1]\n",
    "y = df.iloc[:,-1]\n"
   ]
  },
  {
   "cell_type": "code",
   "execution_count": 12,
   "id": "promotional-thursday",
   "metadata": {},
   "outputs": [],
   "source": [
    "# split train set and test set\n",
    "\n",
    "# from sklearn.model_selection import train_test_split\n",
    "# X_train, X_test, y_train, y_test 할당. test_size=0.2, random_state=0\n",
    "\n",
    "from sklearn.model_selection import train_test_split\n",
    "\n",
    "X_train, X_test, y_train, y_test = train_test_split(X, y, test_size=0.2, random_state=0)"
   ]
  },
  {
   "cell_type": "markdown",
   "id": "eastern-donna",
   "metadata": {},
   "source": [
    "### Step4: Train Model"
   ]
  },
  {
   "cell_type": "code",
   "execution_count": 18,
   "id": "increasing-rwanda",
   "metadata": {},
   "outputs": [
    {
     "data": {
      "text/plain": [
       "PolynomialFeatures()"
      ]
     },
     "execution_count": 18,
     "metadata": {},
     "output_type": "execute_result"
    }
   ],
   "source": [
    "# from sklearn.preprocessing import PolynomialFeatures\n",
    "# poly_regressor에 PolynomialFeatures(degree=2) 으로 상수항, x, x^2 할당\n",
    "# X_train으로 poly_regressor에 fit\n",
    "\n",
    "from sklearn.preprocessing import PolynomialFeatures\n",
    "# X를 변화(X^0, X^1, X^2,....)시켜 주는 툴\n",
    "\n",
    "poly_regressor = PolynomialFeatures(degree = 2)\n",
    "poly_regressor.fit(X_train)"
   ]
  },
  {
   "cell_type": "code",
   "execution_count": 19,
   "id": "dimensional-rocket",
   "metadata": {},
   "outputs": [
    {
     "data": {
      "text/plain": [
       "array([[  1.        ,   9.18154382,  84.30074692],\n",
       "       [  1.        ,   6.40354414,  41.0053776 ],\n",
       "       [  1.        ,  14.87221216, 221.18269453],\n",
       "       ...,\n",
       "       [  1.        ,  13.55698336, 183.79179782],\n",
       "       [  1.        ,   9.07425455,  82.34209573],\n",
       "       [  1.        ,   9.56750172,  91.5370891 ]])"
      ]
     },
     "execution_count": 19,
     "metadata": {},
     "output_type": "execute_result"
    }
   ],
   "source": [
    "# X_train_poly 에 fitting된 poly_regressor를 활용하여 transform\n",
    "\n",
    "X_train_poly = poly_regressor.transform(X_train)\n",
    "X_train_poly"
   ]
  },
  {
   "cell_type": "code",
   "execution_count": 30,
   "id": "refined-calgary",
   "metadata": {},
   "outputs": [
    {
     "data": {
      "text/html": [
       "<div>\n",
       "<style scoped>\n",
       "    .dataframe tbody tr th:only-of-type {\n",
       "        vertical-align: middle;\n",
       "    }\n",
       "\n",
       "    .dataframe tbody tr th {\n",
       "        vertical-align: top;\n",
       "    }\n",
       "\n",
       "    .dataframe thead th {\n",
       "        text-align: right;\n",
       "    }\n",
       "</style>\n",
       "<table border=\"1\" class=\"dataframe\">\n",
       "  <thead>\n",
       "    <tr style=\"text-align: right;\">\n",
       "      <th></th>\n",
       "      <th>Years of Experience</th>\n",
       "    </tr>\n",
       "  </thead>\n",
       "  <tbody>\n",
       "    <tr>\n",
       "      <th>582</th>\n",
       "      <td>9.181544</td>\n",
       "    </tr>\n",
       "  </tbody>\n",
       "</table>\n",
       "</div>"
      ],
      "text/plain": [
       "     Years of Experience\n",
       "582             9.181544"
      ]
     },
     "execution_count": 30,
     "metadata": {},
     "output_type": "execute_result"
    }
   ],
   "source": [
    "X_train.head(1)"
   ]
  },
  {
   "cell_type": "code",
   "execution_count": 21,
   "id": "approved-raising",
   "metadata": {},
   "outputs": [
    {
     "data": {
      "text/plain": [
       "LinearRegression()"
      ]
     },
     "execution_count": 21,
     "metadata": {},
     "output_type": "execute_result"
    }
   ],
   "source": [
    "# define regressor type, and fit with train set\n",
    "\n",
    "# from sklearn.linear_model import LinearRegression\n",
    "# regressor 에 LinearRegression() 오브젝트 할당\n",
    "# X_train, y_train 으로 regressor fit\n",
    "\n",
    "from sklearn.linear_model import LinearRegression\n",
    "\n",
    "regressor = LinearRegression()\n",
    "regressor.fit(X_train_poly, y_train)\n",
    "\n"
   ]
  },
  {
   "cell_type": "code",
   "execution_count": 23,
   "id": "taken-sociology",
   "metadata": {},
   "outputs": [
    {
     "data": {
      "text/plain": [
       "array([     0.        , -33944.67297428,   2129.56446362])"
      ]
     },
     "execution_count": 23,
     "metadata": {},
     "output_type": "execute_result"
    }
   ],
   "source": [
    "# regression model's Estimated coefficients\n",
    "\n",
    "# regressor 의 coefficient 확인\n",
    "\n",
    "regressor.coef_"
   ]
  },
  {
   "cell_type": "code",
   "execution_count": 24,
   "id": "trying-export",
   "metadata": {},
   "outputs": [
    {
     "data": {
      "text/plain": [
       "212027.24673409504"
      ]
     },
     "execution_count": 24,
     "metadata": {},
     "output_type": "execute_result"
    }
   ],
   "source": [
    "# regression model's independent term in the linear model.\n",
    "# Set to 0.0 if fit_intercept = False.\n",
    "\n",
    "# regressor의 intercept 확인\n",
    "\n",
    "regressor.intercept_"
   ]
  },
  {
   "cell_type": "markdown",
   "id": "experienced-contrary",
   "metadata": {},
   "source": [
    "### Step5: Predict value"
   ]
  },
  {
   "cell_type": "code",
   "execution_count": 27,
   "id": "christian-theta",
   "metadata": {},
   "outputs": [],
   "source": [
    "# predict y values with trained regressor\n",
    "\n",
    "# regressor.predict 활용하여 X_test로 y_pred 생성. \n",
    "# X_test에는 polinomial term이 생기도록 poly_regressor.transform 해주어야 함.\n",
    "\n",
    "\n",
    "\n",
    "X_test_poly = poly_regressor.transform(X_test)\n",
    "y_pred = regressor.predict(X_test_poly)\n"
   ]
  },
  {
   "cell_type": "code",
   "execution_count": 28,
   "id": "scheduled-anger",
   "metadata": {},
   "outputs": [
    {
     "data": {
      "image/png": "[encoded data removed]",
      "text/plain": [
       "<Figure size 432x288 with 1 Axes>"
      ]
     },
     "metadata": {
      "needs_background": "light"
     },
     "output_type": "display_data"
    }
   ],
   "source": [
    "# test set visualization\n",
    "plt.scatter(X_test, y_test, color='black')\n",
    "plt.scatter(X_test, regressor.predict(X_test_poly), color='red', s=5)\n",
    "\n",
    "plt.title('Salary vs Experience (Test set)')\n",
    "plt.xlabel('Years of Experience')\n",
    "plt.ylabel('Salary')\n",
    "plt.show()"
   ]
  },
  {
   "cell_type": "markdown",
   "id": "initial-journey",
   "metadata": {},
   "source": [
    "### Step6: Evaluate Model"
   ]
  },
  {
   "cell_type": "code",
   "execution_count": 29,
   "id": "adolescent-hearts",
   "metadata": {},
   "outputs": [
    {
     "name": "stdout",
     "output_type": "stream",
     "text": [
      "RMSE = 12973.702174253565 \n",
      "MSE = 168316948.1062317 \n",
      "MAE = 8108.655524812913 \n",
      "R2 = 0.9166859933265158 \n",
      "Adjusted R2 = 0.9164766616514568 \n",
      "Mean Absolute Percentage Error = 7.85861879750582 %\n"
     ]
    }
   ],
   "source": [
    "from sklearn.metrics import r2_score, mean_absolute_error, mean_squared_error\n",
    "from math import sqrt\n",
    "\n",
    "k = X_test.shape[1]\n",
    "n = len(X_test)\n",
    "\n",
    "# RMSE(평균 제곱근 오차(Root Mean Square Error))\n",
    "# https://en.wikipedia.org/wiki/Root-mean-square_deviation\n",
    "RMSE = np.sqrt(mean_squared_error(y_test, y_pred))\n",
    "\n",
    "MSE = mean_squared_error(y_test, y_pred)\n",
    "MAE = mean_absolute_error(y_test, y_pred)\n",
    "r2 = r2_score(y_test, y_pred)\n",
    "adj_r2 = 1-(1-r2)*(n-1)/(n-k-1)\n",
    "MAPE = np.mean( np.abs((y_test - y_pred) / y_test ) ) * 100\n",
    "\n",
    "print('RMSE =',RMSE, \n",
    "      '\\nMSE =',MSE, \n",
    "      '\\nMAE =',MAE, \n",
    "      '\\nR2 =', r2, \n",
    "      '\\nAdjusted R2 =', adj_r2, \n",
    "      '\\nMean Absolute Percentage Error =', MAPE, '%') \n"
   ]
  },
  {
   "cell_type": "code",
   "execution_count": null,
   "id": "editorial-solomon",
   "metadata": {},
   "outputs": [],
   "source": []
  }
 ],
 "metadata": {
  "kernelspec": {
   "display_name": "Python 3",
   "language": "python",
   "name": "python3"
  },
  "language_info": {
   "codemirror_mode": {
    "name": "ipython",
    "version": 3
   },
   "file_extension": ".py",
   "mimetype": "text/x-python",
   "name": "python",
   "nbconvert_exporter": "python",
   "pygments_lexer": "ipython3",
   "version": "3.8.8"
  },
  "toc": {
   "base_numbering": 1,
   "nav_menu": {},
   "number_sections": true,
   "sideBar": true,
   "skip_h1_title": false,
   "title_cell": "Table of Contents",
   "title_sidebar": "Contents",
   "toc_cell": false,
   "toc_position": {},
   "toc_section_display": true,
   "toc_window_display": false
  },
  "varInspector": {
   "cols": {
    "lenName": 16,
    "lenType": 16,
    "lenVar": 40
   },
   "kernels_config": {
    "python": {
     "delete_cmd_postfix": "",
     "delete_cmd_prefix": "del ",
     "library": "var_list.py",
     "varRefreshCmd": "print(var_dic_list())"
    },
    "r": {
     "delete_cmd_postfix": ") ",
     "delete_cmd_prefix": "rm(",
     "library": "var_list.r",
     "varRefreshCmd": "cat(var_dic_list()) "
    }
   },
   "types_to_exclude": [
    "module",
    "function",
    "builtin_function_or_method",
    "instance",
    "_Feature"
   ],
   "window_display": false
  }
 },
 "nbformat": 4,
 "nbformat_minor": 5
}
